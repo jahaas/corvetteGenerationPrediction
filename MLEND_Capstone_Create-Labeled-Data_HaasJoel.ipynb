{
 "cells": [
  {
   "cell_type": "markdown",
   "metadata": {},
   "source": [
    "# Machine Learning Engineer Nanodegree Program"
   ]
  },
  {
   "cell_type": "markdown",
   "metadata": {},
   "source": [
    "### Capstone Project : Object Detection, Classification and Recognition of Corvette Generations\n",
    "\n",
    "#### By: Joel Haas\n",
    "#### October 2019"
   ]
  },
  {
   "cell_type": "markdown",
   "metadata": {},
   "source": [
    "## Data Labeling\n",
    "\n",
    "This script was used to label the dataset so that I could measure the accuracy of my predictions."
   ]
  },
  {
   "cell_type": "markdown",
   "metadata": {},
   "source": [
    "### Import Libraries"
   ]
  },
  {
   "cell_type": "code",
   "execution_count": 1,
   "metadata": {},
   "outputs": [],
   "source": [
    "import numpy as np\n",
    "import pandas as np\n",
    "import matplotlib.pyplot as plt\n",
    "import matplotlib.image as mpimg\n",
    "import os\n",
    "import csv"
   ]
  },
  {
   "cell_type": "code",
   "execution_count": 2,
   "metadata": {},
   "outputs": [],
   "source": [
    "path = r\"D:\\D Drive\\DataScience\\MachineLearningEngineerNanodegree\\capstoneProject\\\\\""
   ]
  },
  {
   "cell_type": "markdown",
   "metadata": {},
   "source": [
    "### Create CSV Ouput File"
   ]
  },
  {
   "cell_type": "code",
   "execution_count": 3,
   "metadata": {},
   "outputs": [],
   "source": [
    "# path to save the labels\n",
    "save_path = r\"D:\\D Drive\\DataScience\\MachineLearningEngineerNanodegree\\capstoneProject\\\\\"\n",
    "\n",
    "# header for the labels\n",
    "header = ['id','car','corvette','c1','c2','c3','c4','c5','c6','c7','c8','classification']\n",
    "\n",
    "# create a new csv for the subset of training data\n",
    "#labels = open(save_path + \"labels\\labels_training_data.csv\", 'a', newline=\"\")\n",
    "\n",
    "# create a new csv for the test dataset\n",
    "#labels = open(save_path + \"labels\\labels_test_data.csv\", 'a', newline=\"\")\n",
    "\n",
    "# create a new csv for the test dataset\n",
    "labels = open(save_path + \"labels\\labels_training_10000.csv\", 'a', newline=\"\")\n",
    "\n",
    "with labels:\n",
    "    writer = csv.writer(labels)\n",
    "    writer.writerow(header)"
   ]
  },
  {
   "cell_type": "markdown",
   "metadata": {},
   "source": [
    "### Image Labeling\n",
    "\n",
    "Load each image, parse the filename, and then label accordingly.  Prior to this step, and after I had collected all the images, I manually named the images so that I could parse the names and create labels.  "
   ]
  },
  {
   "cell_type": "code",
   "execution_count": 4,
   "metadata": {},
   "outputs": [],
   "source": [
    "def load_images(folder):\n",
    "    #images = []\n",
    "    \n",
    "    # iterate through the folder and each image filename\n",
    "    for filename in os.listdir(folder):\n",
    "        try:\n",
    "            # try to read each image\n",
    "            img = mpimg.imread(os.path.join(folder, filename))\n",
    "            \n",
    "            # if able to read the image, then create the label\n",
    "            if img is not None:\n",
    "                #images.append(img)\n",
    "                labels = filename.split('_')\n",
    "                split_labels(filename, labels)\n",
    "        except:\n",
    "            continue\n",
    "    \n",
    "    #return images"
   ]
  },
  {
   "cell_type": "markdown",
   "metadata": {},
   "source": [
    "### File Name Parsing and Labeling\n",
    "\n",
    "Based on the file naming convention I used, I was able to label the data.  I did the following for my file naming convention: I organized all the images into their respective folder, e.g. 1st generation corvettes when into a 'C1' folder, pictures of beaches and mountains when into a 'no-cars' folder, etc.\n",
    "\n",
    "I manually reviewed the images in each folder to ensure that the images were categorized correctly.  For example, when I scraped for 1957 corvettes (1st generation, C1), some of the returned images were 3rd generation corvettes, C3.  I had to manually QA each image in each folder to ensure the images were categorized correctly.  \n",
    "\n",
    "Once I completed QA of the images, then I manually renamed them.  I highlighted all the images in the folder, and renamed one of them.  For example, for the C1 folder, I renamed them all as follows: 'corvette_1_1_1_ '\n",
    "\n",
    "My PC then renamed all the images in the C1 folder as follows:\n",
    "\n",
    "* corvette_1_1_1 (1)\n",
    "* corvette_1_1_1 (2)\n",
    "* corvette_1_1_1 (3) \n",
    "* etc.\n",
    "\n",
    "I did the same with the images in the other folders.\n",
    "\n",
    "So now, when I parse the filename as you see in the function below, I know this image is a car (the first '1'), the car is a corvette (the second '1'), and the corvette is a C1 (the third '1'). "
   ]
  },
  {
   "cell_type": "code",
   "execution_count": 5,
   "metadata": {},
   "outputs": [],
   "source": [
    "def split_labels(filename,labels):\n",
    "    \"\"\" use the filename to determine the appropriate labels and classification\"\"\"\n",
    "    \n",
    "    label_set = []\n",
    "    \n",
    "    # if filename begins with 'cars', then assign the following label\n",
    "    # image is a car, but not a corvette\n",
    "    if labels[0] == 'cars':\n",
    "        label_set.append((filename, '1', '0', '0', '0', '0', '0', '0', '0', '0', '0', [\"car\", \"not_corvette\"]))\n",
    "    \n",
    "    # if filename begins with 'corvette', then assign the following labels\n",
    "    elif labels[0] == 'corvette':\n",
    "        if labels[3] == '1':  #C1\n",
    "            label_set.append((filename,'1', '1',  '1', '0', '0', '0', '0', '0', '0', '0', [\"car\", \"corvette\", \"c1\"]))\n",
    "        \n",
    "        if labels[3] == '2': #C2\n",
    "            label_set.append((filename,'1', '1', '0', '1', '0', '0', '0', '0', '0', '0', [\"car\", \"corvette\", \"c2\"]))\n",
    "        \n",
    "        if labels[3] == '3': #C3\n",
    "            label_set.append((filename,'1', '1', '0', '0', '1', '0', '0', '0', '0', '0', [\"car\", \"corvette\", \"c3\"]))\n",
    "        \n",
    "        if labels[3] == '4': #C4\n",
    "            label_set.append((filename,'1', '1', '0', '0', '0', '1', '0', '0', '0', '0', [\"car\", \"corvette\", \"c4\"]))\n",
    "        \n",
    "        if labels[3] == '5': #C5\n",
    "            label_set.append((filename,'1', '1','0', '0', '0', '0', '1', '0', '0', '0', [\"car\", \"corvette\", \"c5\"]))\n",
    "        \n",
    "        if labels[3] == '6': #C6\n",
    "            label_set.append((filename,'1', '1', '0', '0', '0', '0', '0', '1', '0', '0', [\"car\", \"corvette\", \"c6\"]))\n",
    "        \n",
    "        if labels[3] == '7': #C7\n",
    "            label_set.append((filename,'1', '1', '0', '0', '0', '0', '0', '0', '1', '0', [\"car\", \"corvette\", \"c7\"]))\n",
    "       \n",
    "        if labels[3] == '8': #C8\n",
    "            label_set.append((filename,'1', '1', '0', '0', '0', '0', '0', '0', '0', '1', [\"car\", \"corvette\", \"c8\"]))\n",
    "    \n",
    "    # not a car\n",
    "    else:\n",
    "        label_set.append((filename,'0', '0', '0', '0', '0', '0', '0', '0', '0', '0', [\"not_car\", \"not_corvette\"]))\n",
    "    \n",
    "    save_labels(label_set)"
   ]
  },
  {
   "cell_type": "markdown",
   "metadata": {},
   "source": [
    "### Append the CSV File with the Labels"
   ]
  },
  {
   "cell_type": "code",
   "execution_count": 6,
   "metadata": {},
   "outputs": [],
   "source": [
    "def save_labels(label_set):\n",
    "    save_path = r\"D:\\D Drive\\DataScience\\MachineLearningEngineerNanodegree\\capstoneProject\\labels\\\\\"\n",
    "    \n",
    "    # subset of training data labels\n",
    "    #labels = open(save_path + \"labels_training_data.csv\", 'a', newline=\"\")\n",
    "    \n",
    "    # test data labels\n",
    "    #labels = open(save_path + \"labels_test_data.csv\", 'a', newline=\"\")\n",
    "    \n",
    "    # full set of training data labels\n",
    "    labels = open(save_path + \"labels_training_10000.csv\", 'a', newline=\"\")\n",
    "        \n",
    "    with labels:\n",
    "        writer = csv.writer(labels)\n",
    "        writer.writerows(label_set)"
   ]
  },
  {
   "cell_type": "markdown",
   "metadata": {},
   "source": [
    "### Run the Functions Above\n",
    "\n",
    "I needed to create labeled data for the following: \n",
    "\n",
    "1) a small subset of training data that I used for testing\n",
    "\n",
    "2) my hold out test set that I used to measure my model's performance, and \n",
    "\n",
    "3) my full training set"
   ]
  },
  {
   "cell_type": "code",
   "execution_count": 7,
   "metadata": {},
   "outputs": [
    {
     "name": "stderr",
     "output_type": "stream",
     "text": [
      "C:\\ProgramData\\Anaconda3\\lib\\site-packages\\PIL\\TiffImagePlugin.py:739: UserWarning: Possibly corrupt EXIF data.  Expecting to read 1703936 bytes but only got 0. Skipping tag 42\n",
      "  \" Skipping tag %s\" % (size, len(data), tag))\n",
      "C:\\ProgramData\\Anaconda3\\lib\\site-packages\\PIL\\TiffImagePlugin.py:739: UserWarning: Possibly corrupt EXIF data.  Expecting to read 256000 bytes but only got 0. Skipping tag 19200\n",
      "  \" Skipping tag %s\" % (size, len(data), tag))\n",
      "C:\\ProgramData\\Anaconda3\\lib\\site-packages\\PIL\\TiffImagePlugin.py:739: UserWarning: Possibly corrupt EXIF data.  Expecting to read 1285203968 bytes but only got 0. Skipping tag 59392\n",
      "  \" Skipping tag %s\" % (size, len(data), tag))\n",
      "C:\\ProgramData\\Anaconda3\\lib\\site-packages\\PIL\\TiffImagePlugin.py:756: UserWarning: Corrupt EXIF data.  Expecting to read 12 bytes but only got 9. \n",
      "  warnings.warn(str(msg))\n",
      "C:\\ProgramData\\Anaconda3\\lib\\site-packages\\PIL\\TiffImagePlugin.py:756: UserWarning: Corrupt EXIF data.  Expecting to read 4 bytes but only got 0. \n",
      "  warnings.warn(str(msg))\n"
     ]
    }
   ],
   "source": [
    "# subset of training data labels\n",
    "#load_images(path+'images\\dataSet_training')\n",
    "\n",
    "# test data labels\n",
    "#load_images(path+'images\\\\testSet')\n",
    "\n",
    "# full set of training data labels\n",
    "load_images(path+'images\\\\dataSet_10000')"
   ]
  },
  {
   "cell_type": "code",
   "execution_count": null,
   "metadata": {},
   "outputs": [],
   "source": []
  }
 ],
 "metadata": {
  "kernelspec": {
   "display_name": "Python 3",
   "language": "python",
   "name": "python3"
  },
  "language_info": {
   "codemirror_mode": {
    "name": "ipython",
    "version": 3
   },
   "file_extension": ".py",
   "mimetype": "text/x-python",
   "name": "python",
   "nbconvert_exporter": "python",
   "pygments_lexer": "ipython3",
   "version": "3.6.5"
  }
 },
 "nbformat": 4,
 "nbformat_minor": 2
}
